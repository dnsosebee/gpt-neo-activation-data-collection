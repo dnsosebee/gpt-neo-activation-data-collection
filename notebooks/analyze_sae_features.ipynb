{
 "cells": [
  {
   "cell_type": "code",
   "execution_count": 3,
   "metadata": {},
   "outputs": [],
   "source": [
    "import json\n",
    "from pathlib import Path\n",
    "\n",
    "import torch\n",
    "import numpy as np\n",
    "import matplotlib.pyplot as plt\n",
    "import seaborn as sns\n",
    "\n",
    "# Set plotting style - using a valid matplotlib style\n",
    "plt.style.use('seaborn-v0_8')  # or just use 'default'\n",
    "sns.set_context('notebook')"
   ]
  },
  {
   "cell_type": "code",
   "execution_count": 4,
   "metadata": {},
   "outputs": [
    {
     "name": "stdout",
     "output_type": "stream",
     "text": [
      "Available feature files:\n",
      "  sae_features_20250123_143629.pt\n",
      "\n",
      "Loaded features shape: torch.Size([10000, 6144])\n",
      "\n",
      "Feature statistics:\n",
      "  Sparsity: 0.992\n",
      "  Mean activation: 0.006\n"
     ]
    },
    {
     "name": "stderr",
     "output_type": "stream",
     "text": [
      "/var/folders/k_/hh61gpdj7fv69w4h9xl33xgm0000gn/T/ipykernel_55923/3663575660.py:12: FutureWarning: You are using `torch.load` with `weights_only=False` (the current default value), which uses the default pickle module implicitly. It is possible to construct malicious pickle data which will execute arbitrary code during unpickling (See https://github.com/pytorch/pytorch/blob/main/SECURITY.md#untrusted-models for more details). In a future release, the default value for `weights_only` will be flipped to `True`. This limits the functions that could be executed during unpickling. Arbitrary objects will no longer be allowed to be loaded via this mode unless they are explicitly allowlisted by the user via `torch.serialization.add_safe_globals`. We recommend you start setting `weights_only=True` for any use case where you don't have full control of the loaded file. Please open an issue on GitHub for any issues related to this experimental feature.\n",
      "  features = torch.load(latest_features)\n"
     ]
    }
   ],
   "source": [
    "# Load the features and metadata\n",
    "features_dir = Path(\"../data/sae_features\")\n",
    "\n",
    "# List all feature files\n",
    "feature_files = list(features_dir.glob(\"sae_features_*.pt\"))\n",
    "print(\"Available feature files:\")\n",
    "for f in feature_files:\n",
    "    print(f\"  {f.name}\")\n",
    "\n",
    "# Load the most recent features\n",
    "latest_features = sorted(feature_files)[-1]\n",
    "features = torch.load(latest_features)\n",
    "\n",
    "# Load corresponding metadata\n",
    "metadata_path = latest_features.with_name(latest_features.stem + \"_metadata.json\")\n",
    "with open(metadata_path) as f:\n",
    "    metadata = json.load(f)\n",
    "\n",
    "print(f\"\\nLoaded features shape: {features.shape}\")\n",
    "print(f\"\\nFeature statistics:\")\n",
    "print(f\"  Sparsity: {metadata['sparsity']:.3f}\")\n",
    "print(f\"  Mean activation: {metadata['mean_activation']:.3f}\")"
   ]
  },
  {
   "cell_type": "code",
   "execution_count": 5,
   "metadata": {},
   "outputs": [
    {
     "data": {
      "image/png": "[encoded data removed]",
      "text/plain": [
       "<Figure size 1200x400 with 1 Axes>"
      ]
     },
     "metadata": {},
     "output_type": "display_data"
    },
    {
     "name": "stdout",
     "output_type": "stream",
     "text": [
      "Non-zero activation statistics:\n",
      "  Mean: 0.771\n",
      "  Std: 0.803\n",
      "  Min: -0.669\n",
      "  Max: 8.662\n"
     ]
    }
   ],
   "source": [
    "# Quick visualization of feature activations\n",
    "plt.figure(figsize=(12, 4))\n",
    "\n",
    "# Plot distribution of non-zero activations\n",
    "non_zero_activations = features[features != 0].numpy()\n",
    "plt.hist(non_zero_activations, bins=50, density=True)\n",
    "plt.title('Distribution of Non-Zero Feature Activations')\n",
    "plt.xlabel('Activation Value')\n",
    "plt.ylabel('Density')\n",
    "plt.show()\n",
    "\n",
    "# Print some basic stats\n",
    "print(f\"Non-zero activation statistics:\")\n",
    "print(f\"  Mean: {non_zero_activations.mean():.3f}\")\n",
    "print(f\"  Std: {non_zero_activations.std():.3f}\")\n",
    "print(f\"  Min: {non_zero_activations.min():.3f}\")\n",
    "print(f\"  Max: {non_zero_activations.max():.3f}\")"
   ]
  },
  {
   "cell_type": "code",
   "execution_count": 7,
   "metadata": {},
   "outputs": [
    {
     "ename": "ImportError",
     "evalue": "attempted relative import with no known parent package",
     "output_type": "error",
     "traceback": [
      "\u001b[0;31m---------------------------------------------------------------------------\u001b[0m",
      "\u001b[0;31mImportError\u001b[0m                               Traceback (most recent call last)",
      "Cell \u001b[0;32mIn[7], line 2\u001b[0m\n\u001b[1;32m      1\u001b[0m \u001b[38;5;66;03m# Load original data to get input tokens\u001b[39;00m\n\u001b[0;32m----> 2\u001b[0m \u001b[38;5;28;01mfrom\u001b[39;00m\u001b[38;5;250m \u001b[39m\u001b[38;5;21;01m.\u001b[39;00m\u001b[38;5;21;01m.\u001b[39;00m\u001b[38;5;21;01msrc\u001b[39;00m\u001b[38;5;21;01m.\u001b[39;00m\u001b[38;5;21;01mdata_io\u001b[39;00m\u001b[38;5;250m \u001b[39m\u001b[38;5;28;01mimport\u001b[39;00m load_activation_data\n\u001b[1;32m      4\u001b[0m original_data \u001b[38;5;241m=\u001b[39m load_activation_data()\n\u001b[1;32m      5\u001b[0m original_activations \u001b[38;5;241m=\u001b[39m original_data[\u001b[38;5;124m\"\u001b[39m\u001b[38;5;124mactivations\u001b[39m\u001b[38;5;124m\"\u001b[39m]\n",
      "\u001b[0;31mImportError\u001b[0m: attempted relative import with no known parent package"
     ]
    }
   ],
   "source": [
    "# Load original data to get input tokens\n",
    "from src.data_io import load_activation_data\n",
    "\n",
    "original_data = load_activation_data()\n",
    "original_activations = original_data[\"activations\"]\n",
    "metadata = original_data.get(\"metadata\", {})\n",
    "\n",
    "# Get activations for the first feature (index 0)\n",
    "feature_idx = 0\n",
    "feature_activations = features[:, feature_idx]\n",
    "\n",
    "# Find top 10 activation indices\n",
    "top_k = 10\n",
    "top_activations, top_indices = torch.topk(feature_activations, top_k)\n",
    "\n",
    "print(f\"Top {top_k} activations for feature {feature_idx}:\")\n",
    "for i, (activation, idx) in enumerate(zip(top_activations, top_indices)):\n",
    "    print(f\"\\nRank {i+1}:\")\n",
    "    print(f\"  Activation value: {activation:.3f}\")\n",
    "    print(f\"  Sample index: {idx}\")\n",
    "    \n",
    "    # Get the original input for this sample\n",
    "    original_input = original_activations[idx]\n",
    "    \n",
    "    # Get the top contributing input dimensions\n",
    "    top_input_k = 5\n",
    "    top_inputs, top_input_indices = torch.topk(torch.abs(original_input), top_input_k)\n",
    "    \n",
    "    print(f\"  Top {top_input_k} contributing input dimensions:\")\n",
    "    for input_val, input_idx in zip(top_inputs, top_input_indices):\n",
    "        print(f\"    Dimension {input_idx}: {input_val:.3f}\")\n",
    "\n",
    "# Visualize the activation pattern\n",
    "plt.figure(figsize=(12, 4))\n",
    "plt.plot(feature_activations.numpy())\n",
    "plt.title(f'Activation Pattern for Feature {feature_idx}')\n",
    "plt.xlabel('Sample Index')\n",
    "plt.ylabel('Activation Value')\n",
    "plt.show()\n",
    "\n",
    "# Show activation distribution for this feature\n",
    "plt.figure(figsize=(12, 4))\n",
    "non_zero_feature = feature_activations[feature_activations != 0].numpy()\n",
    "plt.hist(non_zero_feature, bins=50, density=True)\n",
    "plt.title(f'Distribution of Non-Zero Activations for Feature {feature_idx}')\n",
    "plt.xlabel('Activation Value')\n",
    "plt.ylabel('Density')\n",
    "plt.show()"
   ]
  },
  {
   "cell_type": "code",
   "execution_count": null,
   "metadata": {},
   "outputs": [],
   "source": []
  }
 ],
 "metadata": {
  "kernelspec": {
   "display_name": ".venv",
   "language": "python",
   "name": "python3"
  },
  "language_info": {
   "codemirror_mode": {
    "name": "ipython",
    "version": 3
   },
   "file_extension": ".py",
   "mimetype": "text/x-python",
   "name": "python",
   "nbconvert_exporter": "python",
   "pygments_lexer": "ipython3",
   "version": "3.12.4"
  }
 },
 "nbformat": 4,
 "nbformat_minor": 2
}
